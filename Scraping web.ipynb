{
 "cells": [
  {
   "cell_type": "code",
   "execution_count": 67,
   "id": "2e014ce0-e0d0-4038-8214-a8b96d1941b8",
   "metadata": {
    "tags": []
   },
   "outputs": [],
   "source": [
    "import requests as req\n",
    "from bs4 import BeautifulSoup as bs\n",
    "from datetime import datetime\n",
    "import csv\n",
    "import pandas as pd\n",
    "hades = {'user-agent': 'Mozilla/5.0 (Windows NT 10.0; Win64; x64) AppleWebKit/537.36 (KHTML, like Gecko) Chrome/106.0.0.0 Safari/537.36'}"
   ]
  },
  {
   "cell_type": "code",
   "execution_count": 104,
   "id": "bb04fa58-77b0-4e2e-8feb-54d86664d26f",
   "metadata": {
    "tags": []
   },
   "outputs": [],
   "source": [
    "def scrape_detik(hal):\n",
    "    data = []\n",
    "    global hades\n",
    "    a = 1\n",
    "    for page in range(1,hal):\n",
    "        url = f'https://www.detik.com/search/searchall?query=pemilu+capres&sortby=time&page={page}'\n",
    "        ge = req.get(url,hades).text\n",
    "        sop = bs(ge,'lxml')\n",
    "        li = sop.find('div',class_='list media_rows list-berita')\n",
    "        lin = li.find_all('article')\n",
    "        for x in lin:\n",
    "            link = x.find('a')['href']\n",
    "            date = x.find('a').find('span',class_='date').text.replace('WIB','').replace('detikNews','').split(',')[1]\n",
    "            headline = x.find('a').find('h2').text\n",
    "            ge_ = req.get(link,hades).text\n",
    "            sop_ = bs(ge_,'lxml')\n",
    "            content = sop_.find_all('div',class_='detail__body-text itp_bodycontent')\n",
    "            for x in content:\n",
    "                x = x.find_all('p')\n",
    "                y  = [y.text for y in x ]\n",
    "                content_ = ''.join(y).replace('\\n', '').replace('ADVERTISEMENT','').replace('SCROLL TO RESUME CONTENT','')\n",
    "                \n",
    "                a += 1\n",
    "                data.append({'Date': date, 'Headline': headline, 'Link': link, 'Content': content_})\n",
    "\n",
    "    df = pd.DataFrame(data)\n",
    "    return df"
   ]
  },
  {
   "cell_type": "code",
   "execution_count": 108,
   "id": "38fb7f9e-6015-4484-a46b-19a35de23a3a",
   "metadata": {
    "tags": []
   },
   "outputs": [],
   "source": [
    "df = scrape_detik(1000)\n",
    "writer = pd.ExcelWriter('politik.xlsx')\n",
    "df.to_excel(writer,'Sheet1',index=False)\n",
    "writer.close()"
   ]
  }
 ],
 "metadata": {
  "kernelspec": {
   "display_name": "Python 3 (ipykernel)",
   "language": "python",
   "name": "python3"
  },
  "language_info": {
   "codemirror_mode": {
    "name": "ipython",
    "version": 3
   },
   "file_extension": ".py",
   "mimetype": "text/x-python",
   "name": "python",
   "nbconvert_exporter": "python",
   "pygments_lexer": "ipython3",
   "version": "3.11.5"
  }
 },
 "nbformat": 4,
 "nbformat_minor": 5
}
